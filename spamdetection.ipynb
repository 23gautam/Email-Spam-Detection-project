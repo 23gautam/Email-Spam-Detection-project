{
 "cells": [
  {
   "cell_type": "code",
   "execution_count": 2,
   "metadata": {
    "executionInfo": {
     "elapsed": 11,
     "status": "ok",
     "timestamp": 1694197026945,
     "user": {
      "displayName": "Gautam",
      "userId": "10171013709975771772"
     },
     "user_tz": -330
    },
    "id": "6TJl279OFwok"
   },
   "outputs": [],
   "source": [
    "import pandas as pd"
   ]
  },
  {
   "cell_type": "code",
   "execution_count": 3,
   "metadata": {
    "executionInfo": {
     "elapsed": 735,
     "status": "ok",
     "timestamp": 1694197027671,
     "user": {
      "displayName": "Gautam",
      "userId": "10171013709975771772"
     },
     "user_tz": -330
    },
    "id": "Oz0X3P1AF28v"
   },
   "outputs": [],
   "source": [
    "import nltk"
   ]
  },
  {
   "cell_type": "code",
   "execution_count": 4,
   "metadata": {
    "colab": {
     "base_uri": "https://localhost:8080/"
    },
    "executionInfo": {
     "elapsed": 1436,
     "status": "ok",
     "timestamp": 1694197029104,
     "user": {
      "displayName": "Gautam",
      "userId": "10171013709975771772"
     },
     "user_tz": -330
    },
    "id": "ClR1PO1oHXx5",
    "outputId": "c379574c-3396-4477-bde6-d7c60e05967c"
   },
   "outputs": [
    {
     "name": "stderr",
     "output_type": "stream",
     "text": [
      "[nltk_data] Downloading package wordnet to\n",
      "[nltk_data]     C:\\Users\\gauta\\AppData\\Roaming\\nltk_data...\n",
      "[nltk_data]   Package wordnet is already up-to-date!\n"
     ]
    },
    {
     "data": {
      "text/plain": [
       "True"
      ]
     },
     "execution_count": 4,
     "metadata": {},
     "output_type": "execute_result"
    }
   ],
   "source": [
    "nltk.download('wordnet')"
   ]
  },
  {
   "cell_type": "code",
   "execution_count": 5,
   "metadata": {
    "colab": {
     "base_uri": "https://localhost:8080/"
    },
    "executionInfo": {
     "elapsed": 1229,
     "status": "ok",
     "timestamp": 1694197030325,
     "user": {
      "displayName": "Gautam",
      "userId": "10171013709975771772"
     },
     "user_tz": -330
    },
    "id": "gn7NhQItHeUU",
    "outputId": "5f975779-84bb-48d4-e2b6-a01f7a56b175"
   },
   "outputs": [
    {
     "name": "stderr",
     "output_type": "stream",
     "text": [
      "[nltk_data] Downloading package punkt to\n",
      "[nltk_data]     C:\\Users\\gauta\\AppData\\Roaming\\nltk_data...\n",
      "[nltk_data]   Package punkt is already up-to-date!\n"
     ]
    },
    {
     "data": {
      "text/plain": [
       "True"
      ]
     },
     "execution_count": 5,
     "metadata": {},
     "output_type": "execute_result"
    }
   ],
   "source": [
    "nltk.download('punkt')"
   ]
  },
  {
   "cell_type": "code",
   "execution_count": 6,
   "metadata": {
    "colab": {
     "base_uri": "https://localhost:8080/",
     "height": 339
    },
    "executionInfo": {
     "elapsed": 523,
     "status": "error",
     "timestamp": 1694197251497,
     "user": {
      "displayName": "Gautam",
      "userId": "10171013709975771772"
     },
     "user_tz": -330
    },
    "id": "PZZqepsGHgYW",
    "outputId": "56325581-44df-43da-d375-a549d4194940"
   },
   "outputs": [],
   "source": [
    "dt=pd.read_csv(\"spam1.csv\")"
   ]
  },
  {
   "cell_type": "code",
   "execution_count": 7,
   "metadata": {
    "colab": {
     "base_uri": "https://localhost:8080/",
     "height": 206
    },
    "executionInfo": {
     "elapsed": 438,
     "status": "ok",
     "timestamp": 1692437238092,
     "user": {
      "displayName": "Gautam",
      "userId": "10171013709975771772"
     },
     "user_tz": -330
    },
    "id": "TlgNuqiwHkTQ",
    "outputId": "46e8a193-8651-4f7e-aeb8-1c187e07843f"
   },
   "outputs": [
    {
     "data": {
      "text/html": [
       "<div>\n",
       "<style scoped>\n",
       "    .dataframe tbody tr th:only-of-type {\n",
       "        vertical-align: middle;\n",
       "    }\n",
       "\n",
       "    .dataframe tbody tr th {\n",
       "        vertical-align: top;\n",
       "    }\n",
       "\n",
       "    .dataframe thead th {\n",
       "        text-align: right;\n",
       "    }\n",
       "</style>\n",
       "<table border=\"1\" class=\"dataframe\">\n",
       "  <thead>\n",
       "    <tr style=\"text-align: right;\">\n",
       "      <th></th>\n",
       "      <th>label</th>\n",
       "      <th>text</th>\n",
       "    </tr>\n",
       "  </thead>\n",
       "  <tbody>\n",
       "    <tr>\n",
       "      <th>0</th>\n",
       "      <td>ham</td>\n",
       "      <td>Subject: enron methanol ; meter # : 988291\\r\\n...</td>\n",
       "    </tr>\n",
       "    <tr>\n",
       "      <th>1</th>\n",
       "      <td>ham</td>\n",
       "      <td>Subject: hpl nom for january 9 , 2001\\r\\n( see...</td>\n",
       "    </tr>\n",
       "    <tr>\n",
       "      <th>2</th>\n",
       "      <td>ham</td>\n",
       "      <td>Subject: neon retreat\\r\\nho ho ho , we ' re ar...</td>\n",
       "    </tr>\n",
       "    <tr>\n",
       "      <th>3</th>\n",
       "      <td>spam</td>\n",
       "      <td>Subject: photoshop , windows , office . cheap ...</td>\n",
       "    </tr>\n",
       "    <tr>\n",
       "      <th>4</th>\n",
       "      <td>ham</td>\n",
       "      <td>Subject: re : indian springs\\r\\nthis deal is t...</td>\n",
       "    </tr>\n",
       "  </tbody>\n",
       "</table>\n",
       "</div>"
      ],
      "text/plain": [
       "  label                                               text\n",
       "0   ham  Subject: enron methanol ; meter # : 988291\\r\\n...\n",
       "1   ham  Subject: hpl nom for january 9 , 2001\\r\\n( see...\n",
       "2   ham  Subject: neon retreat\\r\\nho ho ho , we ' re ar...\n",
       "3  spam  Subject: photoshop , windows , office . cheap ...\n",
       "4   ham  Subject: re : indian springs\\r\\nthis deal is t..."
      ]
     },
     "execution_count": 7,
     "metadata": {},
     "output_type": "execute_result"
    }
   ],
   "source": [
    "dt.head()"
   ]
  },
  {
   "cell_type": "code",
   "execution_count": 8,
   "metadata": {
    "id": "JyV-t4VSHsoP"
   },
   "outputs": [],
   "source": [
    "dt['spam']=dt['label'].map({'spam':1,'ham':0}).astype(int)"
   ]
  },
  {
   "cell_type": "code",
   "execution_count": 9,
   "metadata": {
    "colab": {
     "base_uri": "https://localhost:8080/",
     "height": 174
    },
    "executionInfo": {
     "elapsed": 14,
     "status": "ok",
     "timestamp": 1692437438154,
     "user": {
      "displayName": "Gautam",
      "userId": "10171013709975771772"
     },
     "user_tz": -330
    },
    "id": "A6jc4R2tIUbK",
    "outputId": "03b3bf8e-ca08-404b-8762-62ee7d18ab6b"
   },
   "outputs": [
    {
     "data": {
      "text/html": [
       "<div>\n",
       "<style scoped>\n",
       "    .dataframe tbody tr th:only-of-type {\n",
       "        vertical-align: middle;\n",
       "    }\n",
       "\n",
       "    .dataframe tbody tr th {\n",
       "        vertical-align: top;\n",
       "    }\n",
       "\n",
       "    .dataframe thead th {\n",
       "        text-align: right;\n",
       "    }\n",
       "</style>\n",
       "<table border=\"1\" class=\"dataframe\">\n",
       "  <thead>\n",
       "    <tr style=\"text-align: right;\">\n",
       "      <th></th>\n",
       "      <th>label</th>\n",
       "      <th>text</th>\n",
       "      <th>spam</th>\n",
       "    </tr>\n",
       "  </thead>\n",
       "  <tbody>\n",
       "    <tr>\n",
       "      <th>0</th>\n",
       "      <td>ham</td>\n",
       "      <td>Subject: enron methanol ; meter # : 988291\\r\\n...</td>\n",
       "      <td>0</td>\n",
       "    </tr>\n",
       "    <tr>\n",
       "      <th>1</th>\n",
       "      <td>ham</td>\n",
       "      <td>Subject: hpl nom for january 9 , 2001\\r\\n( see...</td>\n",
       "      <td>0</td>\n",
       "    </tr>\n",
       "    <tr>\n",
       "      <th>2</th>\n",
       "      <td>ham</td>\n",
       "      <td>Subject: neon retreat\\r\\nho ho ho , we ' re ar...</td>\n",
       "      <td>0</td>\n",
       "    </tr>\n",
       "    <tr>\n",
       "      <th>3</th>\n",
       "      <td>spam</td>\n",
       "      <td>Subject: photoshop , windows , office . cheap ...</td>\n",
       "      <td>1</td>\n",
       "    </tr>\n",
       "  </tbody>\n",
       "</table>\n",
       "</div>"
      ],
      "text/plain": [
       "  label                                               text  spam\n",
       "0   ham  Subject: enron methanol ; meter # : 988291\\r\\n...     0\n",
       "1   ham  Subject: hpl nom for january 9 , 2001\\r\\n( see...     0\n",
       "2   ham  Subject: neon retreat\\r\\nho ho ho , we ' re ar...     0\n",
       "3  spam  Subject: photoshop , windows , office . cheap ...     1"
      ]
     },
     "execution_count": 9,
     "metadata": {},
     "output_type": "execute_result"
    }
   ],
   "source": [
    "dt.head(4)"
   ]
  },
  {
   "cell_type": "code",
   "execution_count": 10,
   "metadata": {
    "colab": {
     "base_uri": "https://localhost:8080/"
    },
    "executionInfo": {
     "elapsed": 439,
     "status": "ok",
     "timestamp": 1692437566838,
     "user": {
      "displayName": "Gautam",
      "userId": "10171013709975771772"
     },
     "user_tz": -330
    },
    "id": "g6nSh30cIdjt",
    "outputId": "e5417304-f89c-46d9-e4c4-00522273540c"
   },
   "outputs": [
    {
     "data": {
      "text/plain": [
       "5171"
      ]
     },
     "execution_count": 10,
     "metadata": {},
     "output_type": "execute_result"
    }
   ],
   "source": [
    "len(dt['label'])"
   ]
  },
  {
   "cell_type": "markdown",
   "metadata": {
    "id": "Ho7j5O34LHan"
   },
   "source": [
    "tokenize"
   ]
  },
  {
   "cell_type": "code",
   "execution_count": 11,
   "metadata": {
    "id": "nZA5XGI8JKfu"
   },
   "outputs": [],
   "source": [
    "from nltk import word_tokenize"
   ]
  },
  {
   "cell_type": "code",
   "execution_count": 12,
   "metadata": {
    "id": "qnOf2ygTI82R"
   },
   "outputs": [],
   "source": [
    "dt['text']=dt['text'].apply(word_tokenize)"
   ]
  },
  {
   "cell_type": "code",
   "execution_count": 13,
   "metadata": {},
   "outputs": [
    {
     "data": {
      "text/plain": [
       "['Subject',\n",
       " ':',\n",
       " 'enron',\n",
       " 'methanol',\n",
       " ';',\n",
       " 'meter',\n",
       " '#',\n",
       " ':',\n",
       " '988291',\n",
       " 'this',\n",
       " 'is',\n",
       " 'a',\n",
       " 'follow',\n",
       " 'up',\n",
       " 'to',\n",
       " 'the',\n",
       " 'note',\n",
       " 'i',\n",
       " 'gave',\n",
       " 'you',\n",
       " 'on',\n",
       " 'monday',\n",
       " ',',\n",
       " '4',\n",
       " '/',\n",
       " '3',\n",
       " '/',\n",
       " '00',\n",
       " '{',\n",
       " 'preliminary',\n",
       " 'flow',\n",
       " 'data',\n",
       " 'provided',\n",
       " 'by',\n",
       " 'daren',\n",
       " '}',\n",
       " '.',\n",
       " 'please',\n",
       " 'override',\n",
       " 'pop',\n",
       " \"'\",\n",
       " 's',\n",
       " 'daily',\n",
       " 'volume',\n",
       " '{',\n",
       " 'presently',\n",
       " 'zero',\n",
       " '}',\n",
       " 'to',\n",
       " 'reflect',\n",
       " 'daily',\n",
       " 'activity',\n",
       " 'you',\n",
       " 'can',\n",
       " 'obtain',\n",
       " 'from',\n",
       " 'gas',\n",
       " 'control',\n",
       " '.',\n",
       " 'this',\n",
       " 'change',\n",
       " 'is',\n",
       " 'needed',\n",
       " 'asap',\n",
       " 'for',\n",
       " 'economics',\n",
       " 'purposes',\n",
       " '.']"
      ]
     },
     "execution_count": 13,
     "metadata": {},
     "output_type": "execute_result"
    }
   ],
   "source": [
    "dt['text'][0]"
   ]
  },
  {
   "cell_type": "markdown",
   "metadata": {
    "id": "NjpJavVgK_pG"
   },
   "source": [
    "Stemmer"
   ]
  },
  {
   "cell_type": "code",
   "execution_count": 14,
   "metadata": {
    "id": "HvTR_FQrJIS7"
   },
   "outputs": [],
   "source": [
    "from nltk.stem.snowball import SnowballStemmer\n",
    "porter=SnowballStemmer(\"english\",ignore_stopwords=False)\n"
   ]
  },
  {
   "cell_type": "code",
   "execution_count": 15,
   "metadata": {
    "id": "M11k-cJGJTtw"
   },
   "outputs": [],
   "source": [
    "def stem_it(text):\n",
    "  return [porter.stem(word) for word in text]"
   ]
  },
  {
   "cell_type": "code",
   "execution_count": 16,
   "metadata": {
    "id": "XVDHHIlQKEaz"
   },
   "outputs": [],
   "source": [
    "dt['text']=dt['text'].apply(stem_it)"
   ]
  },
  {
   "cell_type": "code",
   "execution_count": 17,
   "metadata": {},
   "outputs": [
    {
     "data": {
      "text/plain": [
       "['subject',\n",
       " ':',\n",
       " 'enron',\n",
       " 'methanol',\n",
       " ';',\n",
       " 'meter',\n",
       " '#',\n",
       " ':',\n",
       " '988291',\n",
       " 'this',\n",
       " 'is',\n",
       " 'a',\n",
       " 'follow',\n",
       " 'up',\n",
       " 'to',\n",
       " 'the',\n",
       " 'note',\n",
       " 'i',\n",
       " 'gave',\n",
       " 'you',\n",
       " 'on',\n",
       " 'monday',\n",
       " ',',\n",
       " '4',\n",
       " '/',\n",
       " '3',\n",
       " '/',\n",
       " '00',\n",
       " '{',\n",
       " 'preliminari',\n",
       " 'flow',\n",
       " 'data',\n",
       " 'provid',\n",
       " 'by',\n",
       " 'daren',\n",
       " '}',\n",
       " '.',\n",
       " 'pleas',\n",
       " 'overrid',\n",
       " 'pop',\n",
       " \"'\",\n",
       " 's',\n",
       " 'daili',\n",
       " 'volum',\n",
       " '{',\n",
       " 'present',\n",
       " 'zero',\n",
       " '}',\n",
       " 'to',\n",
       " 'reflect',\n",
       " 'daili',\n",
       " 'activ',\n",
       " 'you',\n",
       " 'can',\n",
       " 'obtain',\n",
       " 'from',\n",
       " 'gas',\n",
       " 'control',\n",
       " '.',\n",
       " 'this',\n",
       " 'chang',\n",
       " 'is',\n",
       " 'need',\n",
       " 'asap',\n",
       " 'for',\n",
       " 'econom',\n",
       " 'purpos',\n",
       " '.']"
      ]
     },
     "execution_count": 17,
     "metadata": {},
     "output_type": "execute_result"
    }
   ],
   "source": [
    "dt['text'][0]"
   ]
  },
  {
   "cell_type": "markdown",
   "metadata": {
    "id": "x55xV0s6K5sl"
   },
   "source": [
    "Lemmatize"
   ]
  },
  {
   "cell_type": "code",
   "execution_count": 18,
   "metadata": {
    "id": "PB7QeEVaKJao"
   },
   "outputs": [],
   "source": [
    "from nltk.stem import WordNetLemmatizer\n",
    "lemmatizer=WordNetLemmatizer()"
   ]
  },
  {
   "cell_type": "code",
   "execution_count": 19,
   "metadata": {
    "id": "6kIg48obKUDM"
   },
   "outputs": [],
   "source": [
    "def lemmit_it(text):\n",
    "  return [lemmatizer.lemmatize(word,pos=\"a\") for word in text]"
   ]
  },
  {
   "cell_type": "code",
   "execution_count": 20,
   "metadata": {
    "id": "iMX0XrGOKfok"
   },
   "outputs": [],
   "source": [
    "dt['text']=dt['text'].apply(lemmit_it)"
   ]
  },
  {
   "cell_type": "code",
   "execution_count": 21,
   "metadata": {},
   "outputs": [
    {
     "data": {
      "text/plain": [
       "['subject',\n",
       " ':',\n",
       " 'enron',\n",
       " 'methanol',\n",
       " ';',\n",
       " 'meter',\n",
       " '#',\n",
       " ':',\n",
       " '988291',\n",
       " 'this',\n",
       " 'is',\n",
       " 'a',\n",
       " 'follow',\n",
       " 'up',\n",
       " 'to',\n",
       " 'the',\n",
       " 'note',\n",
       " 'i',\n",
       " 'gave',\n",
       " 'you',\n",
       " 'on',\n",
       " 'monday',\n",
       " ',',\n",
       " '4',\n",
       " '/',\n",
       " '3',\n",
       " '/',\n",
       " '00',\n",
       " '{',\n",
       " 'preliminari',\n",
       " 'flow',\n",
       " 'data',\n",
       " 'provid',\n",
       " 'by',\n",
       " 'daren',\n",
       " '}',\n",
       " '.',\n",
       " 'pleas',\n",
       " 'overrid',\n",
       " 'pop',\n",
       " \"'\",\n",
       " 's',\n",
       " 'daili',\n",
       " 'volum',\n",
       " '{',\n",
       " 'present',\n",
       " 'zero',\n",
       " '}',\n",
       " 'to',\n",
       " 'reflect',\n",
       " 'daili',\n",
       " 'activ',\n",
       " 'you',\n",
       " 'can',\n",
       " 'obtain',\n",
       " 'from',\n",
       " 'gas',\n",
       " 'control',\n",
       " '.',\n",
       " 'this',\n",
       " 'chang',\n",
       " 'is',\n",
       " 'need',\n",
       " 'asap',\n",
       " 'for',\n",
       " 'econom',\n",
       " 'purpos',\n",
       " '.']"
      ]
     },
     "execution_count": 21,
     "metadata": {},
     "output_type": "execute_result"
    }
   ],
   "source": [
    "dt['text'][0]"
   ]
  },
  {
   "cell_type": "code",
   "execution_count": 22,
   "metadata": {
    "id": "oI90AiIjKmYR"
   },
   "outputs": [],
   "source": [
    "from nltk.corpus import stopwords"
   ]
  },
  {
   "cell_type": "code",
   "execution_count": 23,
   "metadata": {
    "colab": {
     "base_uri": "https://localhost:8080/"
    },
    "executionInfo": {
     "elapsed": 6,
     "status": "ok",
     "timestamp": 1692438669680,
     "user": {
      "displayName": "Gautam",
      "userId": "10171013709975771772"
     },
     "user_tz": -330
    },
    "id": "HTj59n_LMBLH",
    "outputId": "c9f0b32d-b9ff-4166-c1fb-a59e80611bb0"
   },
   "outputs": [
    {
     "name": "stderr",
     "output_type": "stream",
     "text": [
      "[nltk_data] Downloading package stopwords to\n",
      "[nltk_data]     C:\\Users\\gauta\\AppData\\Roaming\\nltk_data...\n",
      "[nltk_data]   Package stopwords is already up-to-date!\n"
     ]
    },
    {
     "data": {
      "text/plain": [
       "True"
      ]
     },
     "execution_count": 23,
     "metadata": {},
     "output_type": "execute_result"
    }
   ],
   "source": [
    "nltk.download('stopwords')"
   ]
  },
  {
   "cell_type": "code",
   "execution_count": 24,
   "metadata": {
    "id": "oz97RKOrKrA0"
   },
   "outputs": [],
   "source": [
    "stop_words = stopwords.words('english')"
   ]
  },
  {
   "cell_type": "code",
   "execution_count": 25,
   "metadata": {
    "colab": {
     "base_uri": "https://localhost:8080/"
    },
    "executionInfo": {
     "elapsed": 7,
     "status": "ok",
     "timestamp": 1692438887451,
     "user": {
      "displayName": "Gautam",
      "userId": "10171013709975771772"
     },
     "user_tz": -330
    },
    "id": "AEeK7FJDN9Tp",
    "outputId": "e9b4ba06-69e9-44c0-b3c8-092e574b2f9d"
   },
   "outputs": [
    {
     "name": "stdout",
     "output_type": "stream",
     "text": [
      "['i', 'me', 'my', 'myself', 'we', 'our', 'ours', 'ourselves', 'you', \"you're\", \"you've\", \"you'll\", \"you'd\", 'your', 'yours', 'yourself', 'yourselves', 'he', 'him', 'his', 'himself', 'she', \"she's\", 'her', 'hers', 'herself', 'it', \"it's\", 'its', 'itself', 'they', 'them', 'their', 'theirs', 'themselves', 'what', 'which', 'who', 'whom', 'this', 'that', \"that'll\", 'these', 'those', 'am', 'is', 'are', 'was', 'were', 'be', 'been', 'being', 'have', 'has', 'had', 'having', 'do', 'does', 'did', 'doing', 'a', 'an', 'the', 'and', 'but', 'if', 'or', 'because', 'as', 'until', 'while', 'of', 'at', 'by', 'for', 'with', 'about', 'against', 'between', 'into', 'through', 'during', 'before', 'after', 'above', 'below', 'to', 'from', 'up', 'down', 'in', 'out', 'on', 'off', 'over', 'under', 'again', 'further', 'then', 'once', 'here', 'there', 'when', 'where', 'why', 'how', 'all', 'any', 'both', 'each', 'few', 'more', 'most', 'other', 'some', 'such', 'no', 'nor', 'not', 'only', 'own', 'same', 'so', 'than', 'too', 'very', 's', 't', 'can', 'will', 'just', 'don', \"don't\", 'should', \"should've\", 'now', 'd', 'll', 'm', 'o', 're', 've', 'y', 'ain', 'aren', \"aren't\", 'couldn', \"couldn't\", 'didn', \"didn't\", 'doesn', \"doesn't\", 'hadn', \"hadn't\", 'hasn', \"hasn't\", 'haven', \"haven't\", 'isn', \"isn't\", 'ma', 'mightn', \"mightn't\", 'mustn', \"mustn't\", 'needn', \"needn't\", 'shan', \"shan't\", 'shouldn', \"shouldn't\", 'wasn', \"wasn't\", 'weren', \"weren't\", 'won', \"won't\", 'wouldn', \"wouldn't\"]\n"
     ]
    }
   ],
   "source": [
    "print(stop_words)"
   ]
  },
  {
   "cell_type": "code",
   "execution_count": 26,
   "metadata": {
    "id": "-ELp-Wj4Ng6H"
   },
   "outputs": [],
   "source": [
    "def stop_it(text):\n",
    "  review=[word for word in text if not word in stop_words]\n",
    "  return review"
   ]
  },
  {
   "cell_type": "code",
   "execution_count": 27,
   "metadata": {
    "id": "yQ60RNoIL93r"
   },
   "outputs": [],
   "source": [
    "dt['text']=dt['text'].apply(stop_it)"
   ]
  },
  {
   "cell_type": "code",
   "execution_count": 28,
   "metadata": {
    "id": "tqqsFnCjPVTf"
   },
   "outputs": [],
   "source": [
    "dt['text']=dt['text'].apply(' '.join)"
   ]
  },
  {
   "cell_type": "code",
   "execution_count": 29,
   "metadata": {
    "colab": {
     "base_uri": "https://localhost:8080/",
     "height": 206
    },
    "executionInfo": {
     "elapsed": 14,
     "status": "ok",
     "timestamp": 1692439338111,
     "user": {
      "displayName": "Gautam",
      "userId": "10171013709975771772"
     },
     "user_tz": -330
    },
    "id": "S4RPwYBGPn1M",
    "outputId": "ff8d26c1-9616-46ee-d2f9-07a6d69d7660"
   },
   "outputs": [
    {
     "data": {
      "text/html": [
       "<div>\n",
       "<style scoped>\n",
       "    .dataframe tbody tr th:only-of-type {\n",
       "        vertical-align: middle;\n",
       "    }\n",
       "\n",
       "    .dataframe tbody tr th {\n",
       "        vertical-align: top;\n",
       "    }\n",
       "\n",
       "    .dataframe thead th {\n",
       "        text-align: right;\n",
       "    }\n",
       "</style>\n",
       "<table border=\"1\" class=\"dataframe\">\n",
       "  <thead>\n",
       "    <tr style=\"text-align: right;\">\n",
       "      <th></th>\n",
       "      <th>label</th>\n",
       "      <th>text</th>\n",
       "      <th>spam</th>\n",
       "    </tr>\n",
       "  </thead>\n",
       "  <tbody>\n",
       "    <tr>\n",
       "      <th>0</th>\n",
       "      <td>ham</td>\n",
       "      <td>subject : enron methanol ; meter # : 988291 fo...</td>\n",
       "      <td>0</td>\n",
       "    </tr>\n",
       "    <tr>\n",
       "      <th>1</th>\n",
       "      <td>ham</td>\n",
       "      <td>subject : hpl nom januari 9 , 2001 ( see attac...</td>\n",
       "      <td>0</td>\n",
       "    </tr>\n",
       "    <tr>\n",
       "      <th>2</th>\n",
       "      <td>ham</td>\n",
       "      <td>subject : neon retreat ho ho ho , ' around won...</td>\n",
       "      <td>0</td>\n",
       "    </tr>\n",
       "    <tr>\n",
       "      <th>3</th>\n",
       "      <td>spam</td>\n",
       "      <td>subject : photoshop , window , offic . cheap ....</td>\n",
       "      <td>1</td>\n",
       "    </tr>\n",
       "    <tr>\n",
       "      <th>4</th>\n",
       "      <td>ham</td>\n",
       "      <td>subject : : indian spring deal book teco pvr r...</td>\n",
       "      <td>0</td>\n",
       "    </tr>\n",
       "  </tbody>\n",
       "</table>\n",
       "</div>"
      ],
      "text/plain": [
       "  label                                               text  spam\n",
       "0   ham  subject : enron methanol ; meter # : 988291 fo...     0\n",
       "1   ham  subject : hpl nom januari 9 , 2001 ( see attac...     0\n",
       "2   ham  subject : neon retreat ho ho ho , ' around won...     0\n",
       "3  spam  subject : photoshop , window , offic . cheap ....     1\n",
       "4   ham  subject : : indian spring deal book teco pvr r...     0"
      ]
     },
     "execution_count": 29,
     "metadata": {},
     "output_type": "execute_result"
    }
   ],
   "source": [
    "dt.head()"
   ]
  },
  {
   "cell_type": "code",
   "execution_count": 30,
   "metadata": {
    "id": "GneP9GtYNVWi"
   },
   "outputs": [],
   "source": [
    "from sklearn.feature_extraction.text import TfidfVectorizer\n",
    "tfidf=TfidfVectorizer()\n",
    "y=dt.spam.values\n",
    "x=tfidf.fit_transform(dt['text'])"
   ]
  },
  {
   "cell_type": "code",
   "execution_count": 31,
   "metadata": {
    "id": "Dh-MriHeNx9t"
   },
   "outputs": [],
   "source": [
    "from sklearn.model_selection import train_test_split\n",
    "x_train,x_text,y_train,y_text=train_test_split(x,y,random_state=2,test_size=0.2,shuffle=False)"
   ]
  },
  {
   "cell_type": "code",
   "execution_count": 32,
   "metadata": {
    "id": "GvPW0fS1QNoL"
   },
   "outputs": [],
   "source": [
    "from sklearn.linear_model import LogisticRegression\n",
    "hij=LogisticRegression()\n",
    "hij.fit(x_train,y_train)\n",
    "y_pred=hij.predict(x_text)"
   ]
  },
  {
   "cell_type": "code",
   "execution_count": 33,
   "metadata": {
    "colab": {
     "base_uri": "https://localhost:8080/"
    },
    "executionInfo": {
     "elapsed": 2,
     "status": "ok",
     "timestamp": 1692440323964,
     "user": {
      "displayName": "Gautam",
      "userId": "10171013709975771772"
     },
     "user_tz": -330
    },
    "id": "erKjLAkCQjti",
    "outputId": "288e01e8-278d-4b00-a0f2-0290e17fc717"
   },
   "outputs": [
    {
     "name": "stdout",
     "output_type": "stream",
     "text": [
      "accuracy 0.9855072463768116\n"
     ]
    }
   ],
   "source": [
    "from sklearn.metrics import accuracy_score\n",
    "acc_log =accuracy_score(y_pred,y_text)\n",
    "print(\"accuracy\",acc_log)"
   ]
  },
  {
   "cell_type": "code",
   "execution_count": null,
   "metadata": {},
   "outputs": [],
   "source": []
  }
 ],
 "metadata": {
  "colab": {
   "authorship_tag": "ABX9TyOEXTuh1agV4dIuEe7OuGKP",
   "provenance": []
  },
  "kernelspec": {
   "display_name": "Python 3 (ipykernel)",
   "language": "python",
   "name": "python3"
  },
  "language_info": {
   "codemirror_mode": {
    "name": "ipython",
    "version": 3
   },
   "file_extension": ".py",
   "mimetype": "text/x-python",
   "name": "python",
   "nbconvert_exporter": "python",
   "pygments_lexer": "ipython3",
   "version": "3.10.9"
  }
 },
 "nbformat": 4,
 "nbformat_minor": 1
}
